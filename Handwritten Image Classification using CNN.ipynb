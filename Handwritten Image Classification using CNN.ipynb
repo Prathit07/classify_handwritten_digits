{
 "cells": [
  {
   "cell_type": "markdown",
   "metadata": {},
   "source": [
    "Classify handwritten digits \n",
    "\n",
    "Architecture \n",
    "\n",
    "Input <-- CNN_1_BatchNorm_ReLU (8 feature maps) <-- MaxPool (8 feature maps) <-- CNN_2_BatchNorm_ReLU (32 fearture maps) <-- MaxPool (32 feature maps) <-- FC1 (600 neurons) <--FC2 (10 classes/output)"
   ]
  },
  {
   "cell_type": "code",
   "execution_count": 47,
   "metadata": {},
   "outputs": [],
   "source": [
    "import torch \n",
    "import torch.nn as nn \n",
    "import torchvision.transforms as transforms \n",
    "import torchvision.datasets as datasets\n",
    "import numpy as np\n",
    "import matplotlib.pyplot as plt \n",
    "from torch.autograd import Variable\n",
    "import cv2\n",
    "from PIL import Image"
   ]
  },
  {
   "cell_type": "code",
   "execution_count": 48,
   "metadata": {},
   "outputs": [],
   "source": [
    "#Mean and Std of the MNIST dataset - Used for image normalisation\n",
    "mean_gray = 0.1307\n",
    "std_gray = 0.3081 \n",
    "\n",
    "#Transform the image to tensor and normalise the image\n",
    "#Since this is a grey scale image there is only 1 channel (RGB will have 3 channels)\n",
    "# input[channel] = (input[channel] - mean[channel]) / std[channel]\n",
    "\n",
    "transformation = transforms.Compose([transforms.ToTensor(), \n",
    "                                 transforms.Normalize((mean_gray,), (std_gray,))]) \n",
    "#To transform your own handwritten Image\n",
    "transform_photo = transforms.Compose([transforms.Resize((28,28)),\n",
    "                                      transforms.ToTensor(), \n",
    "                                      transforms.Normalize((mean_gray,), (std_gray,))])\n",
    "\n",
    "train_dataset = datasets.MNIST(root=\"./data\", \n",
    "                               train=True, \n",
    "                               transform=transformation, \n",
    "                               download=True)\n",
    "\n",
    "test_dataset = datasets.MNIST(root=\"./data\", \n",
    "                              train=False, \n",
    "                              transform=transformation,\n",
    "                              download=True)"
   ]
  },
  {
   "cell_type": "code",
   "execution_count": 29,
   "metadata": {},
   "outputs": [
    {
     "data": {
      "text/plain": [
       "<matplotlib.image.AxesImage at 0x1fb66056c20>"
      ]
     },
     "execution_count": 29,
     "metadata": {},
     "output_type": "execute_result"
    },
    {
     "data": {
      "image/png": "[encoded data removed]",
      "text/plain": [
       "<Figure size 432x288 with 1 Axes>"
      ]
     },
     "metadata": {
      "needs_background": "light"
     },
     "output_type": "display_data"
    }
   ],
   "source": [
    "import matplotlib.pyplot as plt \n",
    "random_img = train_dataset[40][0].numpy() * std_gray + mean_gray #Each image has input and label \n",
    "plt.imshow(random_img.reshape(28,28), cmap=\"gray\")"
   ]
  },
  {
   "cell_type": "code",
   "execution_count": 30,
   "metadata": {},
   "outputs": [
    {
     "name": "stdout",
     "output_type": "stream",
     "text": [
      "1\n"
     ]
    }
   ],
   "source": [
    "print(train_dataset[40][1])"
   ]
  },
  {
   "cell_type": "code",
   "execution_count": 31,
   "metadata": {},
   "outputs": [],
   "source": [
    "batch_size = 100\n",
    "\n",
    "train_load = torch.utils.data.DataLoader(dataset=train_dataset,\n",
    "                                        batch_size=batch_size,\n",
    "                                        shuffle=True)\n",
    "\n",
    "test_load = torch.utils.data.DataLoader(dataset=test_dataset,\n",
    "                                        batch_size=batch_size,\n",
    "                                        shuffle=False)"
   ]
  },
  {
   "cell_type": "code",
   "execution_count": 32,
   "metadata": {},
   "outputs": [
    {
     "data": {
      "text/plain": [
       "600"
      ]
     },
     "execution_count": 32,
     "metadata": {},
     "output_type": "execute_result"
    }
   ],
   "source": [
    "len(train_load) #60000/100"
   ]
  },
  {
   "cell_type": "code",
   "execution_count": 33,
   "metadata": {},
   "outputs": [
    {
     "data": {
      "text/plain": [
       "60000"
      ]
     },
     "execution_count": 33,
     "metadata": {},
     "output_type": "execute_result"
    }
   ],
   "source": [
    "len(train_dataset)"
   ]
  },
  {
   "cell_type": "code",
   "execution_count": 34,
   "metadata": {},
   "outputs": [
    {
     "data": {
      "text/plain": [
       "100"
      ]
     },
     "execution_count": 34,
     "metadata": {},
     "output_type": "execute_result"
    }
   ],
   "source": [
    "len(test_load)"
   ]
  },
  {
   "cell_type": "code",
   "execution_count": 35,
   "metadata": {},
   "outputs": [
    {
     "data": {
      "text/plain": [
       "10000"
      ]
     },
     "execution_count": 35,
     "metadata": {},
     "output_type": "execute_result"
    }
   ],
   "source": [
    "len(test_dataset)"
   ]
  },
  {
   "cell_type": "code",
   "execution_count": 36,
   "metadata": {},
   "outputs": [],
   "source": [
    "# Build the CNN \n",
    "class CNN(nn.Module):\n",
    "    def __init__(self):\n",
    "        super(CNN,self).__init__()\n",
    "\n",
    "        #CNN 1 (Check the markdown at the start)\n",
    "        #Same padding means ip size == op size\n",
    "        #Padding = (filter_size-1)/2\n",
    "        self.CNN1 = nn.Conv2d(in_channels = 1, out_channels = 8, kernel_size= 3, stride = 1, padding = 1) #in_channels = 1 as grey scale image have 1 channel\n",
    "        #Output size of each of 8 feature map = [Input size  - Filter size + 2(Padding)/Stride + 1] = (28 - 3 + 2 + 1) = 28\n",
    "\n",
    "        #Batch normalisation\n",
    "        self.batchnorm1 = nn.BatchNorm2d(num_features=8) #As we are getting 8 outputs\n",
    "\n",
    "        #Activation function\n",
    "        self.relu = nn.ReLU()\n",
    "\n",
    "        #Max Pool\n",
    "        self.maxpool = nn.MaxPool2d(kernel_size=2)\n",
    "\n",
    "        #Output size of Maxpool = 28/2 = 14 (kernal_size = 2)\n",
    "\n",
    "        #CNN 2\n",
    "        self.CNN2 = nn.Conv2d(in_channels = 8, out_channels = 32, kernel_size = 5,stride = 1, padding = 2) # in_channel = 8 as the out_channel for previous CNN is 8 \n",
    "        #Output size of each of 32 feature map = [Input size  - Filter size + 2(Padding)/Stride + 1] = (14 - 5 + 4 + 1) = 14\n",
    "\n",
    "        #Batch normalisation\n",
    "        self.batchnorm2 = nn.BatchNorm2d(num_features=32) #As we are getting 32 outputs\n",
    "        #self.maxpool2 = nn.MaxPool2d(kernel_size=2)\n",
    "\n",
    "        #Output size of Maxpool = 14/2 = 7\n",
    "\n",
    "        #Flatten the 32 feature maps = 7*7*32 = 1568\n",
    "\n",
    "        #Linear layers\n",
    "        self.fc1 = nn.Linear(in_features=1568, out_features=600)\n",
    "\n",
    "        self.dropout = nn.Dropout(p=0.5) #Drop neurons by 50%\n",
    "\n",
    "        self.fc2 = nn.Linear(in_features=600, out_features=10)\n",
    "\n",
    "    def forward(self, x):\n",
    "        out = self.CNN1(x)\n",
    "        out = self.batchnorm1(out)\n",
    "        out = self.relu(out)\n",
    "        out = self.maxpool(out)\n",
    "\n",
    "        out = self.CNN2(out)\n",
    "        out = self.batchnorm2(out)\n",
    "        out = self.relu(out)\n",
    "        out = self.maxpool(out)\n",
    "\n",
    "        #Flatten the 32 feature maps from Max pooling to feed to FC Layer(100, 1568)\n",
    "        out = out.view(-1,1568)   \n",
    "\n",
    "        #Forward through FC layer\n",
    "        out = self.fc1(out)\n",
    "        out = self.relu(out)\n",
    "        out = self.dropout(out)\n",
    "        out = self.fc2(out)\n",
    "\n",
    "        return out"
   ]
  },
  {
   "cell_type": "code",
   "execution_count": 37,
   "metadata": {},
   "outputs": [
    {
     "data": {
      "text/plain": [
       "False"
      ]
     },
     "execution_count": 37,
     "metadata": {},
     "output_type": "execute_result"
    }
   ],
   "source": [
    "torch.cuda.is_available() #No GPU on this machine"
   ]
  },
  {
   "cell_type": "code",
   "execution_count": 38,
   "metadata": {},
   "outputs": [],
   "source": [
    "model = CNN()"
   ]
  },
  {
   "cell_type": "code",
   "execution_count": 39,
   "metadata": {},
   "outputs": [],
   "source": [
    "#Define loss Cross Entropy Loss\n",
    "loss_function = nn.CrossEntropyLoss()"
   ]
  },
  {
   "cell_type": "code",
   "execution_count": 40,
   "metadata": {},
   "outputs": [],
   "source": [
    "#Optimizer\n",
    "optimizer = torch.optim.SGD(model.parameters(), lr=0.01)"
   ]
  },
  {
   "cell_type": "code",
   "execution_count": 41,
   "metadata": {},
   "outputs": [
    {
     "name": "stdout",
     "output_type": "stream",
     "text": [
      "Epoch: 1/5\n",
      "Training loss: 0.48971453099201123, Training Accuracy: 87.045\n",
      "Test loss: 0.14781152645125986, Test Accuracy: 96.01\n",
      "Epoch: 2/5\n",
      "Training loss: 0.15196772765368224, Training Accuracy: 95.565\n",
      "Test loss: 0.08901144624687732, Test Accuracy: 97.3\n",
      "Epoch: 3/5\n",
      "Training loss: 0.11061025516750912, Training Accuracy: 96.855\n",
      "Test loss: 0.07116517153335736, Test Accuracy: 97.81\n",
      "Epoch: 4/5\n",
      "Training loss: 0.09061242957909901, Training Accuracy: 97.335\n",
      "Test loss: 0.060534108513966206, Test Accuracy: 98.08\n",
      "Epoch: 5/5\n",
      "Training loss: 0.08034670648941149, Training Accuracy: 97.64166666666667\n",
      "Test loss: 0.05359207517467439, Test Accuracy: 98.32\n"
     ]
    }
   ],
   "source": [
    "#Train the CNN\n",
    "num_epochs = 5 \n",
    "train_loss = []\n",
    "train_accuracy = []\n",
    "test_loss = []\n",
    "test_accuracy = []\n",
    "\n",
    "for epoch in range(num_epochs):\n",
    "    correct = 0 \n",
    "    iteration = 0 \n",
    "    iter_loss = 0.0 #loss for one iteration \n",
    "\n",
    "    model.train() #Put the model in training mode\n",
    "\n",
    "    for i,(inputs,labels) in enumerate(train_load):\n",
    "\n",
    "        # Convert torch tensor to Variable\n",
    "        inputs = Variable(inputs)\n",
    "        labels = Variable(labels)\n",
    "\n",
    "                \n",
    "        outputs = model(inputs)\n",
    "        loss = loss_function(outputs, labels) #loss between prediction and actual\n",
    "        iter_loss += loss.item() #The loss will be in tensor and .item() extracts the value from tensor \n",
    "        optimizer.zero_grad() #Clear the gradiants w = w - lr*gradients (Clear the gradients)\n",
    "\n",
    "        #Back prop\n",
    "        loss.backward()\n",
    "\n",
    "        #Update the weights\n",
    "        optimizer.step()\n",
    "\n",
    "        _, predicted = torch.max(outputs, 1) #For 1st dimension  (_ ignores the value (Ignore max value and take only index))\n",
    "\n",
    "        correct += (predicted == labels).sum().item()\n",
    "\n",
    "        iteration += 1\n",
    "\n",
    "    train_loss.append(iter_loss / iteration) \n",
    "    train_accuracy.append(100 * correct / len(train_dataset)) #Correct / 60,000 (Accuracy)\n",
    "\n",
    "    #Testing Phase\n",
    "    testing_loss = 0.0\n",
    "    correct = 0 \n",
    "    iteration = 0\n",
    "\n",
    "    model.eval() # Put the network into evaluation mode\n",
    "\n",
    "    for i,(inputs,labels) in enumerate(test_load):\n",
    "\n",
    "        # Convert torch tensor to Variable\n",
    "        inputs = Variable(inputs)\n",
    "        labels = Variable(labels)\n",
    "\n",
    "        outputs = model(inputs)\n",
    "        loss = loss_function(outputs, labels) \n",
    "        testing_loss += loss.item() \n",
    "\n",
    "        #No backprop in testing the model\n",
    "\n",
    "        _, predicted = torch.max(outputs, 1) #For 1st dimension  (_ ignores the value (Ignore max value and take only index))\n",
    "        correct += (predicted == labels).sum().item()\n",
    "        iteration += 1\n",
    "\n",
    "    test_loss.append(testing_loss / iteration) \n",
    "    test_accuracy.append(100 *correct / len(test_dataset)) #Correct / 60,000 (Accuracy)\n",
    "\n",
    "\n",
    "    print(f'Epoch: {epoch+1}/{num_epochs}')\n",
    "    print(f\"Training loss: {train_loss[-1]}, Training Accuracy: {train_accuracy[-1]}\") #Get the last values for loss and accuracy\n",
    "    print(f\"Test loss: {test_loss[-1]}, Test Accuracy: {test_accuracy[-1]}\") #Get the last values for loss and accuracy"
   ]
  },
  {
   "cell_type": "code",
   "execution_count": 42,
   "metadata": {},
   "outputs": [
    {
     "data": {
      "text/plain": [
       "<matplotlib.legend.Legend at 0x1fb6606fc70>"
      ]
     },
     "execution_count": 42,
     "metadata": {},
     "output_type": "execute_result"
    },
    {
     "data": {
      "image/png": "[encoded data removed]",
      "text/plain": [
       "<Figure size 720x960 with 1 Axes>"
      ]
     },
     "metadata": {
      "needs_background": "light"
     },
     "output_type": "display_data"
    }
   ],
   "source": [
    "#Plotting the loss \n",
    "plt.figure(dpi=120, figsize=(6,8))\n",
    "plt.plot(train_loss, label = \"Training Loss\")\n",
    "plt.plot(test_loss, label = \"Testing Loss\")\n",
    "plt.legend()"
   ]
  },
  {
   "cell_type": "code",
   "execution_count": 43,
   "metadata": {},
   "outputs": [
    {
     "data": {
      "text/plain": [
       "<matplotlib.legend.Legend at 0x1fb66447970>"
      ]
     },
     "execution_count": 43,
     "metadata": {},
     "output_type": "execute_result"
    },
    {
     "data": {
      "image/png": "[encoded data removed]",
      "text/plain": [
       "<Figure size 720x960 with 1 Axes>"
      ]
     },
     "metadata": {
      "needs_background": "light"
     },
     "output_type": "display_data"
    }
   ],
   "source": [
    "#Plotting the accuracy\n",
    "plt.figure(dpi=120, figsize=(6,8))\n",
    "plt.plot(train_accuracy, label = \"Training Accuracy\")\n",
    "plt.plot(test_accuracy, label = \"Testing Accuracy\")\n",
    "plt.legend()"
   ]
  },
  {
   "cell_type": "code",
   "execution_count": 46,
   "metadata": {},
   "outputs": [
    {
     "name": "stdout",
     "output_type": "stream",
     "text": [
      "Prediction is: f2\n",
      "Actual is: 2\n"
     ]
    }
   ],
   "source": [
    "img = test_dataset[35][0].resize_((1,1,28,28))# Need to reshape the image to (28, 28)\n",
    "label = test_dataset[35][1]\n",
    "\n",
    "model.eval()\n",
    "\n",
    "outputs = model(img)\n",
    "_, predicted = torch.max(outputs, 1)\n",
    "print(f'Prediction is: f{predicted.item()}')\n",
    "print(f'Actual is: {label}')"
   ]
  },
  {
   "cell_type": "code",
   "execution_count": 49,
   "metadata": {},
   "outputs": [],
   "source": [
    "def predict(img_name, model):\n",
    "    image = cv2.imread(img_name,0) #read the image (0 to transform to grey scale)\n",
    "    ret, thresholded = cv2.threshold(image, 127, 255, cv2.THRESH_BINARY) #127 is threshold value with max 255\n",
    "    img = 255 - thresholded\n",
    "    cv2.imshow(\"Original\", img)\n",
    "    cv2.waitKey(0)\n",
    "    cv2.destroyAllWindows()\n",
    "    img = Image.fromarray(img)\n",
    "    img = transform_photo(img) #Transfrom the image\n",
    "    img = img.view(1,1,28,28)\n",
    "    img = Variable(img)\n",
    "\n",
    "    model.eval()\n",
    "\n",
    "    output = model(img)\n",
    "    print(output)\n",
    "    print(output.data)\n",
    "    _, predicted = torch.max(output,1)\n",
    "\n",
    "    return predicted.item()"
   ]
  },
  {
   "cell_type": "code",
   "execution_count": 55,
   "metadata": {},
   "outputs": [
    {
     "name": "stdout",
     "output_type": "stream",
     "text": [
      "tensor([[-1.4660,  0.7128,  2.8722,  3.4576, -3.9227, -0.7441, -3.6369,  4.7999,\n",
      "         -0.2151,  0.3393]], grad_fn=<AddmmBackward0>)\n",
      "tensor([[-1.4660,  0.7128,  2.8722,  3.4576, -3.9227, -0.7441, -3.6369,  4.7999,\n",
      "         -0.2151,  0.3393]])\n",
      "The predicted label is 7\n"
     ]
    }
   ],
   "source": [
    "pred = predict(\"image.jpg\", model)\n",
    "print(f\"The predicted label is {pred}\")"
   ]
  }
 ],
 "metadata": {
  "kernelspec": {
   "display_name": "Python 3.10.5 64-bit",
   "language": "python",
   "name": "python3"
  },
  "language_info": {
   "codemirror_mode": {
    "name": "ipython",
    "version": 3
   },
   "file_extension": ".py",
   "mimetype": "text/x-python",
   "name": "python",
   "nbconvert_exporter": "python",
   "pygments_lexer": "ipython3",
   "version": "3.10.5"
  },
  "orig_nbformat": 4,
  "vscode": {
   "interpreter": {
    "hash": "6899debca9bfcf6e0002f3c901e046ec1b0d0be8e110f41d7db70ee1794571f8"
   }
  }
 },
 "nbformat": 4,
 "nbformat_minor": 2
}
